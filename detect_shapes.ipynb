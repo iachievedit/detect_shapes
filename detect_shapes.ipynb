{
 "cells": [
  {
   "cell_type": "markdown",
   "id": "a4920a86",
   "metadata": {},
   "source": [
    "Here is where some great documentation will go."
   ]
  },
  {
   "cell_type": "code",
   "execution_count": 23,
   "id": "f40b1acc",
   "metadata": {},
   "outputs": [],
   "source": [
    "import tensorflow as tf\n",
    "from tensorflow import keras\n",
    "\n",
    "import pickle\n",
    "import gzip\n",
    "file  = gzip.open(\"shapes.dat.gz\", \"rb\")\n",
    "shapes = pickle.load(file)\n",
    "\n",
    "from numpy.random import permutation\n",
    "perm = permutation(len(shapes['data']))\n",
    "\n",
    "shapes['data']   = shapes['data'][perm]\n",
    "shapes['target'] = shapes['target'][perm]\n",
    "\n",
    "X,y = shapes[\"data\"], shapes[\"target\"]\n",
    "\n",
    "def shapename(l):\n",
    "    if l == 0:\n",
    "        return \"circle\"\n",
    "    elif l == 1:\n",
    "        return \"triangle\"\n",
    "    elif l == 2:\n",
    "        return \"rectangle\"\n",
    "    elif l == 3:\n",
    "        return \"square\"\n"
   ]
  },
  {
   "cell_type": "code",
   "execution_count": 35,
   "id": "bd7adab5",
   "metadata": {},
   "outputs": [
    {
     "name": "stdout",
     "output_type": "stream",
     "text": [
      "This is a square.\n"
     ]
    },
    {
     "data": {
      "image/png": "[encoded data removed]",
      "text/plain": [
       "<Figure size 432x288 with 1 Axes>"
      ]
     },
     "metadata": {
      "needs_background": "light"
     },
     "output_type": "display_data"
    }
   ],
   "source": [
    "# This is superfluous and just an example of picking an image and displaying it.\n",
    "import matplotlib.pyplot as plt\n",
    "i = X[0].reshape(16,16)\n",
    "plt.imshow(i, cmap='gray')\n",
    "print(\"This is a %s.\" % shapename(y[0]))"
   ]
  },
  {
   "cell_type": "code",
   "execution_count": 36,
   "id": "1d8cde30",
   "metadata": {},
   "outputs": [],
   "source": [
    "trainIndex = int(len(X)*0.8) # 80% of the dataset used for training\n",
    "X_train, X_test, y_train, y_test = X[:trainIndex], X[trainIndex:], y[:trainIndex], y[trainIndex:]"
   ]
  },
  {
   "cell_type": "code",
   "execution_count": 37,
   "id": "640ad25e",
   "metadata": {},
   "outputs": [],
   "source": [
    "inputLayer  = keras.layers.Flatten()\n",
    "hiddenLayer = keras.layers.Dense(256, activation=tf.nn.relu)\n",
    "outputLayer = keras.layers.Dense(4,   activation=tf.nn.softmax)\n",
    "\n",
    "model = keras.Sequential([inputLayer, hiddenLayer, outputLayer])\n",
    "model.compile(optimizer='adam', loss='sparse_categorical_crossentropy', metrics=['accuracy'])"
   ]
  },
  {
   "cell_type": "code",
   "execution_count": null,
   "id": "f5e84a89",
   "metadata": {},
   "outputs": [
    {
     "name": "stdout",
     "output_type": "stream",
     "text": [
      "Epoch 1/5\n",
      "2000/2000 [==============================] - 14s 7ms/step - loss: 0.8513 - accuracy: 0.6498\n",
      "Epoch 2/5\n",
      "2000/2000 [==============================] - 18s 9ms/step - loss: 0.2609 - accuracy: 0.9252\n",
      "Epoch 3/5\n",
      "1306/2000 [==================>...........] - ETA: 6s - loss: 0.1472 - accuracy: 0.9586"
     ]
    }
   ],
   "source": [
    "model.fit(X_train, y_train, epochs=5)\n",
    "model.evaluate(X_test, y_test)"
   ]
  },
  {
   "cell_type": "code",
   "execution_count": 28,
   "id": "7e03d729",
   "metadata": {},
   "outputs": [],
   "source": [
    "C = model.predict(X_test)"
   ]
  },
  {
   "cell_type": "code",
   "execution_count": 33,
   "id": "d136285b",
   "metadata": {},
   "outputs": [
    {
     "name": "stdout",
     "output_type": "stream",
     "text": [
      "I think it is a square!\n",
      "And you said it is a square.\n"
     ]
    },
    {
     "data": {
      "image/png": "[encoded data removed]",
      "text/plain": [
       "<Figure size 432x288 with 1 Axes>"
      ]
     },
     "metadata": {
      "needs_background": "light"
     },
     "output_type": "display_data"
    }
   ],
   "source": [
    "import numpy\n",
    "i = 4055\n",
    "plt.imshow(X_test[i].reshape(16,16), cmap='gray')\n",
    "print(\"I think it is a %s!\" % shapename(numpy.argmax(C[i])))\n",
    "print(\"And you said it is a %s.\" % shapename(y_test[i]))"
   ]
  },
  {
   "cell_type": "code",
   "execution_count": null,
   "id": "4cd4bc98",
   "metadata": {},
   "outputs": [],
   "source": []
  }
 ],
 "metadata": {
  "kernelspec": {
   "display_name": "Python 3",
   "language": "python",
   "name": "python3"
  },
  "language_info": {
   "codemirror_mode": {
    "name": "ipython",
    "version": 3
   },
   "file_extension": ".py",
   "mimetype": "text/x-python",
   "name": "python",
   "nbconvert_exporter": "python",
   "pygments_lexer": "ipython3",
   "version": "3.7.10"
  }
 },
 "nbformat": 4,
 "nbformat_minor": 5
}
